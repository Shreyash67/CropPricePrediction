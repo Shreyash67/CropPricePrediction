{
 "cells": [
  {
   "cell_type": "code",
   "execution_count": 1,
   "metadata": {},
   "outputs": [],
   "source": [
    "# Data ingestion"
   ]
  },
  {
   "cell_type": "markdown",
   "metadata": {},
   "source": [
    "# About data "
   ]
  },
  {
   "cell_type": "markdown",
   "metadata": {},
   "source": [
    "##### Total Column in data = 10\n",
    "\n",
    "- N_SOIL: Nitrogen content in the soil (measured in some unit like kg/ha or ppm).\n",
    "- P_SOIL: Phosphorus content in the soil (measured in some unit like kg/ha or ppm).\n",
    "- K_SOIL: Potassium content in the soil (measured in some unit like kg/ha or ppm).\n",
    "- TEMPERATURE: Temperature of the area (measured in Celsius or Fahrenheit).\n",
    "- HUMIDITY: Humidity level in the air (expressed in percentage).\n",
    "- pH: pH level of the soil (indicating its acidity or alkalinity).\n",
    "- RAINFALL: Amount of rainfall (measured in some unit like mm).\n",
    "- STATE: Name or identifier of the state or region where the data was recorded (e.g., \"Andaman and Nicobar\").\n",
    "- CROP: Type of crop being cultivated in the specified area (e.g., \"Rice\")."
   ]
  },
  {
   "cell_type": "markdown",
   "metadata": {},
   "source": [
    "##### Target value\n",
    "\n",
    "- CROP_PRICE: Price of the crop per unit (e.g., per kg or per ton)."
   ]
  },
  {
   "cell_type": "code",
   "execution_count": 2,
   "metadata": {},
   "outputs": [],
   "source": [
    "import pandas as pd"
   ]
  },
  {
   "cell_type": "code",
   "execution_count": 23,
   "metadata": {},
   "outputs": [],
   "source": [
    "data=pd.read_csv(r\"D:\\\\CropPricePrediction\\\\notebooks\\\\data\\\\CropPricePrediction.csv\")"
   ]
  },
  {
   "cell_type": "code",
   "execution_count": 25,
   "metadata": {},
   "outputs": [
    {
     "data": {
      "text/html": [
       "<div>\n",
       "<style scoped>\n",
       "    .dataframe tbody tr th:only-of-type {\n",
       "        vertical-align: middle;\n",
       "    }\n",
       "\n",
       "    .dataframe tbody tr th {\n",
       "        vertical-align: top;\n",
       "    }\n",
       "\n",
       "    .dataframe thead th {\n",
       "        text-align: right;\n",
       "    }\n",
       "</style>\n",
       "<table border=\"1\" class=\"dataframe\">\n",
       "  <thead>\n",
       "    <tr style=\"text-align: right;\">\n",
       "      <th></th>\n",
       "      <th>N_SOIL</th>\n",
       "      <th>P_SOIL</th>\n",
       "      <th>K_SOIL</th>\n",
       "      <th>TEMPERATURE</th>\n",
       "      <th>HUMIDITY</th>\n",
       "      <th>ph</th>\n",
       "      <th>RAINFALL</th>\n",
       "      <th>STATE</th>\n",
       "      <th>CROP</th>\n",
       "      <th>CROP_PRICE</th>\n",
       "    </tr>\n",
       "  </thead>\n",
       "  <tbody>\n",
       "    <tr>\n",
       "      <th>0</th>\n",
       "      <td>90</td>\n",
       "      <td>42</td>\n",
       "      <td>43</td>\n",
       "      <td>20.879744</td>\n",
       "      <td>82.002744</td>\n",
       "      <td>6.502985</td>\n",
       "      <td>202.935536</td>\n",
       "      <td>Andaman and Nicobar</td>\n",
       "      <td>Rice</td>\n",
       "      <td>7000</td>\n",
       "    </tr>\n",
       "    <tr>\n",
       "      <th>1</th>\n",
       "      <td>85</td>\n",
       "      <td>58</td>\n",
       "      <td>41</td>\n",
       "      <td>21.770462</td>\n",
       "      <td>80.319644</td>\n",
       "      <td>7.038096</td>\n",
       "      <td>226.655537</td>\n",
       "      <td>Andaman and Nicobar</td>\n",
       "      <td>Rice</td>\n",
       "      <td>5000</td>\n",
       "    </tr>\n",
       "    <tr>\n",
       "      <th>2</th>\n",
       "      <td>60</td>\n",
       "      <td>55</td>\n",
       "      <td>44</td>\n",
       "      <td>23.004459</td>\n",
       "      <td>82.320763</td>\n",
       "      <td>7.840207</td>\n",
       "      <td>263.964248</td>\n",
       "      <td>Andaman and Nicobar</td>\n",
       "      <td>Rice</td>\n",
       "      <td>7000</td>\n",
       "    </tr>\n",
       "    <tr>\n",
       "      <th>3</th>\n",
       "      <td>74</td>\n",
       "      <td>35</td>\n",
       "      <td>40</td>\n",
       "      <td>26.491096</td>\n",
       "      <td>80.158363</td>\n",
       "      <td>6.980401</td>\n",
       "      <td>242.864034</td>\n",
       "      <td>Andaman and Nicobar</td>\n",
       "      <td>Rice</td>\n",
       "      <td>7000</td>\n",
       "    </tr>\n",
       "    <tr>\n",
       "      <th>4</th>\n",
       "      <td>78</td>\n",
       "      <td>42</td>\n",
       "      <td>42</td>\n",
       "      <td>20.130175</td>\n",
       "      <td>81.604873</td>\n",
       "      <td>7.628473</td>\n",
       "      <td>262.717340</td>\n",
       "      <td>Andaman and Nicobar</td>\n",
       "      <td>Rice</td>\n",
       "      <td>120000</td>\n",
       "    </tr>\n",
       "  </tbody>\n",
       "</table>\n",
       "</div>"
      ],
      "text/plain": [
       "   N_SOIL  P_SOIL  K_SOIL  TEMPERATURE   HUMIDITY        ph    RAINFALL  \\\n",
       "0      90      42      43    20.879744  82.002744  6.502985  202.935536   \n",
       "1      85      58      41    21.770462  80.319644  7.038096  226.655537   \n",
       "2      60      55      44    23.004459  82.320763  7.840207  263.964248   \n",
       "3      74      35      40    26.491096  80.158363  6.980401  242.864034   \n",
       "4      78      42      42    20.130175  81.604873  7.628473  262.717340   \n",
       "\n",
       "                 STATE  CROP  CROP_PRICE  \n",
       "0  Andaman and Nicobar  Rice        7000  \n",
       "1  Andaman and Nicobar  Rice        5000  \n",
       "2  Andaman and Nicobar  Rice        7000  \n",
       "3  Andaman and Nicobar  Rice        7000  \n",
       "4  Andaman and Nicobar  Rice      120000  "
      ]
     },
     "execution_count": 25,
     "metadata": {},
     "output_type": "execute_result"
    }
   ],
   "source": [
    "data.head()"
   ]
  },
  {
   "cell_type": "code",
   "execution_count": 26,
   "metadata": {},
   "outputs": [
    {
     "data": {
      "text/html": [
       "<div>\n",
       "<style scoped>\n",
       "    .dataframe tbody tr th:only-of-type {\n",
       "        vertical-align: middle;\n",
       "    }\n",
       "\n",
       "    .dataframe tbody tr th {\n",
       "        vertical-align: top;\n",
       "    }\n",
       "\n",
       "    .dataframe thead th {\n",
       "        text-align: right;\n",
       "    }\n",
       "</style>\n",
       "<table border=\"1\" class=\"dataframe\">\n",
       "  <thead>\n",
       "    <tr style=\"text-align: right;\">\n",
       "      <th></th>\n",
       "      <th>N_SOIL</th>\n",
       "      <th>P_SOIL</th>\n",
       "      <th>K_SOIL</th>\n",
       "      <th>TEMPERATURE</th>\n",
       "      <th>HUMIDITY</th>\n",
       "      <th>ph</th>\n",
       "      <th>RAINFALL</th>\n",
       "      <th>STATE</th>\n",
       "      <th>CROP</th>\n",
       "      <th>CROP_PRICE</th>\n",
       "    </tr>\n",
       "  </thead>\n",
       "  <tbody>\n",
       "    <tr>\n",
       "      <th>2195</th>\n",
       "      <td>107</td>\n",
       "      <td>34</td>\n",
       "      <td>32</td>\n",
       "      <td>26.774637</td>\n",
       "      <td>66.413269</td>\n",
       "      <td>6.780064</td>\n",
       "      <td>177.774507</td>\n",
       "      <td>West Bengal</td>\n",
       "      <td>Coffee</td>\n",
       "      <td>1000</td>\n",
       "    </tr>\n",
       "    <tr>\n",
       "      <th>2196</th>\n",
       "      <td>99</td>\n",
       "      <td>15</td>\n",
       "      <td>27</td>\n",
       "      <td>27.417112</td>\n",
       "      <td>56.636362</td>\n",
       "      <td>6.086922</td>\n",
       "      <td>127.924610</td>\n",
       "      <td>West Bengal</td>\n",
       "      <td>Coffee</td>\n",
       "      <td>800</td>\n",
       "    </tr>\n",
       "    <tr>\n",
       "      <th>2197</th>\n",
       "      <td>118</td>\n",
       "      <td>33</td>\n",
       "      <td>30</td>\n",
       "      <td>24.131797</td>\n",
       "      <td>67.225123</td>\n",
       "      <td>6.362608</td>\n",
       "      <td>173.322839</td>\n",
       "      <td>West Bengal</td>\n",
       "      <td>Coffee</td>\n",
       "      <td>560</td>\n",
       "    </tr>\n",
       "    <tr>\n",
       "      <th>2198</th>\n",
       "      <td>117</td>\n",
       "      <td>32</td>\n",
       "      <td>34</td>\n",
       "      <td>26.272418</td>\n",
       "      <td>52.127394</td>\n",
       "      <td>6.758793</td>\n",
       "      <td>127.175293</td>\n",
       "      <td>West Bengal</td>\n",
       "      <td>Coffee</td>\n",
       "      <td>1500</td>\n",
       "    </tr>\n",
       "    <tr>\n",
       "      <th>2199</th>\n",
       "      <td>104</td>\n",
       "      <td>18</td>\n",
       "      <td>30</td>\n",
       "      <td>23.603016</td>\n",
       "      <td>60.396475</td>\n",
       "      <td>6.779833</td>\n",
       "      <td>140.937041</td>\n",
       "      <td>West Bengal</td>\n",
       "      <td>Coffee</td>\n",
       "      <td>1400</td>\n",
       "    </tr>\n",
       "  </tbody>\n",
       "</table>\n",
       "</div>"
      ],
      "text/plain": [
       "      N_SOIL  P_SOIL  K_SOIL  TEMPERATURE   HUMIDITY        ph    RAINFALL  \\\n",
       "2195     107      34      32    26.774637  66.413269  6.780064  177.774507   \n",
       "2196      99      15      27    27.417112  56.636362  6.086922  127.924610   \n",
       "2197     118      33      30    24.131797  67.225123  6.362608  173.322839   \n",
       "2198     117      32      34    26.272418  52.127394  6.758793  127.175293   \n",
       "2199     104      18      30    23.603016  60.396475  6.779833  140.937041   \n",
       "\n",
       "            STATE    CROP  CROP_PRICE  \n",
       "2195  West Bengal  Coffee        1000  \n",
       "2196  West Bengal  Coffee         800  \n",
       "2197  West Bengal  Coffee         560  \n",
       "2198  West Bengal  Coffee        1500  \n",
       "2199  West Bengal  Coffee        1400  "
      ]
     },
     "execution_count": 26,
     "metadata": {},
     "output_type": "execute_result"
    }
   ],
   "source": [
    "data.tail()"
   ]
  },
  {
   "cell_type": "code",
   "execution_count": 29,
   "metadata": {},
   "outputs": [
    {
     "data": {
      "text/html": [
       "<div>\n",
       "<style scoped>\n",
       "    .dataframe tbody tr th:only-of-type {\n",
       "        vertical-align: middle;\n",
       "    }\n",
       "\n",
       "    .dataframe tbody tr th {\n",
       "        vertical-align: top;\n",
       "    }\n",
       "\n",
       "    .dataframe thead th {\n",
       "        text-align: right;\n",
       "    }\n",
       "</style>\n",
       "<table border=\"1\" class=\"dataframe\">\n",
       "  <thead>\n",
       "    <tr style=\"text-align: right;\">\n",
       "      <th></th>\n",
       "      <th>N_SOIL</th>\n",
       "      <th>P_SOIL</th>\n",
       "      <th>K_SOIL</th>\n",
       "      <th>TEMPERATURE</th>\n",
       "      <th>HUMIDITY</th>\n",
       "      <th>ph</th>\n",
       "      <th>RAINFALL</th>\n",
       "      <th>STATE</th>\n",
       "      <th>CROP</th>\n",
       "      <th>CROP_PRICE</th>\n",
       "    </tr>\n",
       "  </thead>\n",
       "  <tbody>\n",
       "    <tr>\n",
       "      <th>1888</th>\n",
       "      <td>8</td>\n",
       "      <td>28</td>\n",
       "      <td>30</td>\n",
       "      <td>25.516185</td>\n",
       "      <td>94.334654</td>\n",
       "      <td>6.015672</td>\n",
       "      <td>135.127249</td>\n",
       "      <td>Uttar Pradesh</td>\n",
       "      <td>Coconut</td>\n",
       "      <td>1932</td>\n",
       "    </tr>\n",
       "    <tr>\n",
       "      <th>584</th>\n",
       "      <td>20</td>\n",
       "      <td>50</td>\n",
       "      <td>22</td>\n",
       "      <td>30.996947</td>\n",
       "      <td>46.426937</td>\n",
       "      <td>9.406888</td>\n",
       "      <td>38.315979</td>\n",
       "      <td>Kerala</td>\n",
       "      <td>MothBeans</td>\n",
       "      <td>1700</td>\n",
       "    </tr>\n",
       "    <tr>\n",
       "      <th>1536</th>\n",
       "      <td>18</td>\n",
       "      <td>125</td>\n",
       "      <td>204</td>\n",
       "      <td>22.355482</td>\n",
       "      <td>94.478118</td>\n",
       "      <td>6.046674</td>\n",
       "      <td>116.736626</td>\n",
       "      <td>Uttar Pradesh</td>\n",
       "      <td>Apple</td>\n",
       "      <td>2250</td>\n",
       "    </tr>\n",
       "    <tr>\n",
       "      <th>135</th>\n",
       "      <td>98</td>\n",
       "      <td>44</td>\n",
       "      <td>21</td>\n",
       "      <td>25.771751</td>\n",
       "      <td>74.089114</td>\n",
       "      <td>6.524478</td>\n",
       "      <td>107.493192</td>\n",
       "      <td>Gujarat</td>\n",
       "      <td>Maize</td>\n",
       "      <td>3755</td>\n",
       "    </tr>\n",
       "    <tr>\n",
       "      <th>668</th>\n",
       "      <td>30</td>\n",
       "      <td>37</td>\n",
       "      <td>25</td>\n",
       "      <td>29.891291</td>\n",
       "      <td>80.144872</td>\n",
       "      <td>7.120032</td>\n",
       "      <td>54.796013</td>\n",
       "      <td>Kerala</td>\n",
       "      <td>MungBean</td>\n",
       "      <td>1200</td>\n",
       "    </tr>\n",
       "  </tbody>\n",
       "</table>\n",
       "</div>"
      ],
      "text/plain": [
       "      N_SOIL  P_SOIL  K_SOIL  TEMPERATURE   HUMIDITY        ph    RAINFALL  \\\n",
       "1888       8      28      30    25.516185  94.334654  6.015672  135.127249   \n",
       "584       20      50      22    30.996947  46.426937  9.406888   38.315979   \n",
       "1536      18     125     204    22.355482  94.478118  6.046674  116.736626   \n",
       "135       98      44      21    25.771751  74.089114  6.524478  107.493192   \n",
       "668       30      37      25    29.891291  80.144872  7.120032   54.796013   \n",
       "\n",
       "              STATE       CROP  CROP_PRICE  \n",
       "1888  Uttar Pradesh    Coconut        1932  \n",
       "584          Kerala  MothBeans        1700  \n",
       "1536  Uttar Pradesh      Apple        2250  \n",
       "135         Gujarat      Maize        3755  \n",
       "668          Kerala   MungBean        1200  "
      ]
     },
     "execution_count": 29,
     "metadata": {},
     "output_type": "execute_result"
    }
   ],
   "source": [
    "data.sample(5)"
   ]
  },
  {
   "cell_type": "code",
   "execution_count": 34,
   "metadata": {},
   "outputs": [
    {
     "data": {
      "text/plain": [
       "N_SOIL         0\n",
       "P_SOIL         0\n",
       "K_SOIL         0\n",
       "TEMPERATURE    0\n",
       "HUMIDITY       0\n",
       "ph             0\n",
       "RAINFALL       0\n",
       "STATE          0\n",
       "CROP           0\n",
       "CROP_PRICE     0\n",
       "dtype: int64"
      ]
     },
     "execution_count": 34,
     "metadata": {},
     "output_type": "execute_result"
    }
   ],
   "source": [
    "data.isnull().sum()"
   ]
  },
  {
   "cell_type": "code",
   "execution_count": 35,
   "metadata": {},
   "outputs": [
    {
     "name": "stdout",
     "output_type": "stream",
     "text": [
      "<class 'pandas.core.frame.DataFrame'>\n",
      "RangeIndex: 2200 entries, 0 to 2199\n",
      "Data columns (total 10 columns):\n",
      " #   Column       Non-Null Count  Dtype  \n",
      "---  ------       --------------  -----  \n",
      " 0   N_SOIL       2200 non-null   int64  \n",
      " 1   P_SOIL       2200 non-null   int64  \n",
      " 2   K_SOIL       2200 non-null   int64  \n",
      " 3   TEMPERATURE  2200 non-null   float64\n",
      " 4   HUMIDITY     2200 non-null   float64\n",
      " 5   ph           2200 non-null   float64\n",
      " 6   RAINFALL     2200 non-null   float64\n",
      " 7   STATE        2200 non-null   object \n",
      " 8   CROP         2200 non-null   object \n",
      " 9   CROP_PRICE   2200 non-null   int64  \n",
      "dtypes: float64(4), int64(4), object(2)\n",
      "memory usage: 172.0+ KB\n"
     ]
    }
   ],
   "source": [
    "data.info()"
   ]
  },
  {
   "cell_type": "code",
   "execution_count": 36,
   "metadata": {},
   "outputs": [
    {
     "data": {
      "text/plain": [
       "0"
      ]
     },
     "execution_count": 36,
     "metadata": {},
     "output_type": "execute_result"
    }
   ],
   "source": [
    "data.duplicated().sum()"
   ]
  },
  {
   "cell_type": "code",
   "execution_count": 37,
   "metadata": {},
   "outputs": [
    {
     "data": {
      "text/plain": [
       "(2200, 10)"
      ]
     },
     "execution_count": 37,
     "metadata": {},
     "output_type": "execute_result"
    }
   ],
   "source": [
    "data.shape"
   ]
  },
  {
   "cell_type": "markdown",
   "metadata": {},
   "source": [
    "### Categorical and Numerical Columns"
   ]
  },
  {
   "cell_type": "code",
   "execution_count": 43,
   "metadata": {},
   "outputs": [],
   "source": [
    "categorical_column=data.columns[data.dtypes==\"object\"]"
   ]
  },
  {
   "cell_type": "code",
   "execution_count": 44,
   "metadata": {},
   "outputs": [],
   "source": [
    "numerical_column=data.columns[data.dtypes!=\"object\"]"
   ]
  },
  {
   "cell_type": "code",
   "execution_count": 45,
   "metadata": {},
   "outputs": [
    {
     "data": {
      "text/plain": [
       "Index(['STATE', 'CROP'], dtype='object')"
      ]
     },
     "execution_count": 45,
     "metadata": {},
     "output_type": "execute_result"
    }
   ],
   "source": [
    "categorical_column"
   ]
  },
  {
   "cell_type": "code",
   "execution_count": 46,
   "metadata": {},
   "outputs": [
    {
     "data": {
      "text/plain": [
       "Index(['N_SOIL', 'P_SOIL', 'K_SOIL', 'TEMPERATURE', 'HUMIDITY', 'ph',\n",
       "       'RAINFALL', 'CROP_PRICE'],\n",
       "      dtype='object')"
      ]
     },
     "execution_count": 46,
     "metadata": {},
     "output_type": "execute_result"
    }
   ],
   "source": [
    "numerical_column"
   ]
  },
  {
   "cell_type": "code",
   "execution_count": 53,
   "metadata": {},
   "outputs": [
    {
     "data": {
      "text/html": [
       "<div>\n",
       "<style scoped>\n",
       "    .dataframe tbody tr th:only-of-type {\n",
       "        vertical-align: middle;\n",
       "    }\n",
       "\n",
       "    .dataframe tbody tr th {\n",
       "        vertical-align: top;\n",
       "    }\n",
       "\n",
       "    .dataframe thead th {\n",
       "        text-align: right;\n",
       "    }\n",
       "</style>\n",
       "<table border=\"1\" class=\"dataframe\">\n",
       "  <thead>\n",
       "    <tr style=\"text-align: right;\">\n",
       "      <th></th>\n",
       "      <th>N_SOIL</th>\n",
       "      <th>P_SOIL</th>\n",
       "      <th>K_SOIL</th>\n",
       "      <th>TEMPERATURE</th>\n",
       "      <th>HUMIDITY</th>\n",
       "      <th>ph</th>\n",
       "      <th>RAINFALL</th>\n",
       "      <th>CROP_PRICE</th>\n",
       "    </tr>\n",
       "  </thead>\n",
       "  <tbody>\n",
       "    <tr>\n",
       "      <th>count</th>\n",
       "      <td>2200.000000</td>\n",
       "      <td>2200.000000</td>\n",
       "      <td>2200.000000</td>\n",
       "      <td>2200.000000</td>\n",
       "      <td>2200.000000</td>\n",
       "      <td>2200.000000</td>\n",
       "      <td>2200.000000</td>\n",
       "      <td>2200.000000</td>\n",
       "    </tr>\n",
       "    <tr>\n",
       "      <th>mean</th>\n",
       "      <td>50.551818</td>\n",
       "      <td>53.362727</td>\n",
       "      <td>48.149091</td>\n",
       "      <td>25.616244</td>\n",
       "      <td>71.481779</td>\n",
       "      <td>6.469480</td>\n",
       "      <td>103.463655</td>\n",
       "      <td>2689.228182</td>\n",
       "    </tr>\n",
       "    <tr>\n",
       "      <th>std</th>\n",
       "      <td>36.917334</td>\n",
       "      <td>32.985883</td>\n",
       "      <td>50.647931</td>\n",
       "      <td>5.063749</td>\n",
       "      <td>22.263812</td>\n",
       "      <td>0.773938</td>\n",
       "      <td>54.958389</td>\n",
       "      <td>3710.361267</td>\n",
       "    </tr>\n",
       "    <tr>\n",
       "      <th>min</th>\n",
       "      <td>0.000000</td>\n",
       "      <td>5.000000</td>\n",
       "      <td>5.000000</td>\n",
       "      <td>8.825675</td>\n",
       "      <td>14.258040</td>\n",
       "      <td>3.504752</td>\n",
       "      <td>20.211267</td>\n",
       "      <td>2.000000</td>\n",
       "    </tr>\n",
       "    <tr>\n",
       "      <th>25%</th>\n",
       "      <td>21.000000</td>\n",
       "      <td>28.000000</td>\n",
       "      <td>20.000000</td>\n",
       "      <td>22.769375</td>\n",
       "      <td>60.261953</td>\n",
       "      <td>5.971693</td>\n",
       "      <td>64.551686</td>\n",
       "      <td>950.000000</td>\n",
       "    </tr>\n",
       "    <tr>\n",
       "      <th>50%</th>\n",
       "      <td>37.000000</td>\n",
       "      <td>51.000000</td>\n",
       "      <td>32.000000</td>\n",
       "      <td>25.598693</td>\n",
       "      <td>80.473146</td>\n",
       "      <td>6.425045</td>\n",
       "      <td>94.867624</td>\n",
       "      <td>1825.000000</td>\n",
       "    </tr>\n",
       "    <tr>\n",
       "      <th>75%</th>\n",
       "      <td>84.250000</td>\n",
       "      <td>68.000000</td>\n",
       "      <td>49.000000</td>\n",
       "      <td>28.561654</td>\n",
       "      <td>89.948771</td>\n",
       "      <td>6.923643</td>\n",
       "      <td>124.267508</td>\n",
       "      <td>3500.000000</td>\n",
       "    </tr>\n",
       "    <tr>\n",
       "      <th>max</th>\n",
       "      <td>140.000000</td>\n",
       "      <td>145.000000</td>\n",
       "      <td>205.000000</td>\n",
       "      <td>43.675493</td>\n",
       "      <td>99.981876</td>\n",
       "      <td>9.935091</td>\n",
       "      <td>298.560117</td>\n",
       "      <td>120000.000000</td>\n",
       "    </tr>\n",
       "  </tbody>\n",
       "</table>\n",
       "</div>"
      ],
      "text/plain": [
       "            N_SOIL       P_SOIL       K_SOIL  TEMPERATURE     HUMIDITY  \\\n",
       "count  2200.000000  2200.000000  2200.000000  2200.000000  2200.000000   \n",
       "mean     50.551818    53.362727    48.149091    25.616244    71.481779   \n",
       "std      36.917334    32.985883    50.647931     5.063749    22.263812   \n",
       "min       0.000000     5.000000     5.000000     8.825675    14.258040   \n",
       "25%      21.000000    28.000000    20.000000    22.769375    60.261953   \n",
       "50%      37.000000    51.000000    32.000000    25.598693    80.473146   \n",
       "75%      84.250000    68.000000    49.000000    28.561654    89.948771   \n",
       "max     140.000000   145.000000   205.000000    43.675493    99.981876   \n",
       "\n",
       "                ph     RAINFALL     CROP_PRICE  \n",
       "count  2200.000000  2200.000000    2200.000000  \n",
       "mean      6.469480   103.463655    2689.228182  \n",
       "std       0.773938    54.958389    3710.361267  \n",
       "min       3.504752    20.211267       2.000000  \n",
       "25%       5.971693    64.551686     950.000000  \n",
       "50%       6.425045    94.867624    1825.000000  \n",
       "75%       6.923643   124.267508    3500.000000  \n",
       "max       9.935091   298.560117  120000.000000  "
      ]
     },
     "execution_count": 53,
     "metadata": {},
     "output_type": "execute_result"
    }
   ],
   "source": [
    "data[numerical_column].describe()  # Showing the mean,median, mode n all"
   ]
  },
  {
   "cell_type": "code",
   "execution_count": 54,
   "metadata": {},
   "outputs": [
    {
     "data": {
      "text/html": [
       "<div>\n",
       "<style scoped>\n",
       "    .dataframe tbody tr th:only-of-type {\n",
       "        vertical-align: middle;\n",
       "    }\n",
       "\n",
       "    .dataframe tbody tr th {\n",
       "        vertical-align: top;\n",
       "    }\n",
       "\n",
       "    .dataframe thead th {\n",
       "        text-align: right;\n",
       "    }\n",
       "</style>\n",
       "<table border=\"1\" class=\"dataframe\">\n",
       "  <thead>\n",
       "    <tr style=\"text-align: right;\">\n",
       "      <th></th>\n",
       "      <th>STATE</th>\n",
       "      <th>CROP</th>\n",
       "    </tr>\n",
       "  </thead>\n",
       "  <tbody>\n",
       "    <tr>\n",
       "      <th>count</th>\n",
       "      <td>2200</td>\n",
       "      <td>2200</td>\n",
       "    </tr>\n",
       "    <tr>\n",
       "      <th>unique</th>\n",
       "      <td>26</td>\n",
       "      <td>22</td>\n",
       "    </tr>\n",
       "    <tr>\n",
       "      <th>top</th>\n",
       "      <td>Uttar Pradesh</td>\n",
       "      <td>Rice</td>\n",
       "    </tr>\n",
       "    <tr>\n",
       "      <th>freq</th>\n",
       "      <td>574</td>\n",
       "      <td>100</td>\n",
       "    </tr>\n",
       "  </tbody>\n",
       "</table>\n",
       "</div>"
      ],
      "text/plain": [
       "                STATE  CROP\n",
       "count            2200  2200\n",
       "unique             26    22\n",
       "top     Uttar Pradesh  Rice\n",
       "freq              574   100"
      ]
     },
     "execution_count": 54,
     "metadata": {},
     "output_type": "execute_result"
    }
   ],
   "source": [
    "data[categorical_column].describe()"
   ]
  },
  {
   "cell_type": "code",
   "execution_count": 59,
   "metadata": {},
   "outputs": [
    {
     "data": {
      "text/plain": [
       "STATE\n",
       "Uttar Pradesh          574\n",
       "Kerala                 274\n",
       "Tamil Nadu             183\n",
       "Punjab                 180\n",
       "Maharashtra            162\n",
       "West Bengal            124\n",
       "Gujarat                113\n",
       "Himachal Pradesh       102\n",
       "Odisha                  86\n",
       "Haryana                 65\n",
       "Assam                   58\n",
       "Manipur                 52\n",
       "Madhya Pradesh          44\n",
       "Rajasthan               41\n",
       "Karnataka               36\n",
       "Uttrakhand              21\n",
       "Tripura                 18\n",
       "Telangana               15\n",
       "Andaman and Nicobar     15\n",
       "Andhra Pradesh           7\n",
       "Pondicherry              7\n",
       "Meghalaya                6\n",
       "Nagaland                 6\n",
       "Chattisgarh              5\n",
       "Jammu and Kashmir        3\n",
       "Goa                      3\n",
       "Name: count, dtype: int64"
      ]
     },
     "execution_count": 59,
     "metadata": {},
     "output_type": "execute_result"
    }
   ],
   "source": [
    "data[categorical_column][\"STATE\"].value_counts()"
   ]
  },
  {
   "cell_type": "code",
   "execution_count": null,
   "metadata": {},
   "outputs": [],
   "source": []
  }
 ],
 "metadata": {
  "kernelspec": {
   "display_name": "Python 3",
   "language": "python",
   "name": "python3"
  },
  "language_info": {
   "codemirror_mode": {
    "name": "ipython",
    "version": 3
   },
   "file_extension": ".py",
   "mimetype": "text/x-python",
   "name": "python",
   "nbconvert_exporter": "python",
   "pygments_lexer": "ipython3",
   "version": "3.8.18"
  }
 },
 "nbformat": 4,
 "nbformat_minor": 2
}
